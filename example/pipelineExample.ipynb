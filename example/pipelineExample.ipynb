{
  "nbformat": 4,
  "nbformat_minor": 0,
  "metadata": {
    "colab": {
      "name": "pipelineExample.ipynb",
      "provenance": [],
      "collapsed_sections": []
    },
    "kernelspec": {
      "name": "python3",
      "display_name": "Python 3"
    }
  },
  "cells": [
    {
      "cell_type": "markdown",
      "metadata": {
        "id": "GsB5CJ_8SJmf",
        "colab_type": "text"
      },
      "source": [
        "Here an example Tensorflow pipeline in Google Colab. \n"
      ]
    },
    {
      "cell_type": "code",
      "metadata": {
        "id": "22tgY6ILQJlm",
        "colab_type": "code",
        "colab": {
          "base_uri": "https://localhost:8080/",
          "height": 190
        },
        "outputId": "e279d20f-caa1-419f-a9a6-fd54c27804ad"
      },
      "source": [
        "%tensorflow_version 2.x  # this line is not required unless you are in a notebook\n",
        "import tensorflow as tf  # now import the tensorflow module\n",
        "print(tf.version)  # make sure the version is 2.x\n",
        "mstring = tf.Variable(\"my example pipeline\", tf.string)\n",
        "number = tf.Variable(324, tf.int16)\n",
        "tf.print(mstring)\n",
        "tf.print(number)\n",
        "print(\"printing this\")"
      ],
      "execution_count": 10,
      "outputs": [
        {
          "output_type": "stream",
          "text": [
            "`%tensorflow_version` only switches the major version: 1.x or 2.x.\n",
            "You set: `2.x  # this line is not required unless you are in a notebook`. This will be interpreted as: `2.x`.\n",
            "\n",
            "\n",
            "TensorFlow is already loaded. Please restart the runtime to change versions.\n",
            "<module 'tensorflow._api.v2.version' from '/usr/local/lib/python3.6/dist-packages/tensorflow/_api/v2/version/__init__.py'>\n",
            "my example pipeline\n",
            "324\n",
            "printing this\n"
          ],
          "name": "stdout"
        }
      ]
    },
    {
      "cell_type": "code",
      "metadata": {
        "id": "UWj2JeAITWDQ",
        "colab_type": "code",
        "colab": {}
      },
      "source": [
        ""
      ],
      "execution_count": 0,
      "outputs": []
    },
    {
      "cell_type": "markdown",
      "metadata": {
        "id": "sIjAjbXNTn9A",
        "colab_type": "text"
      },
      "source": [
        "Reshaping tensors"
      ]
    },
    {
      "cell_type": "code",
      "metadata": {
        "id": "dZ8Rbs2xtNqj",
        "colab_type": "code",
        "colab": {}
      },
      "source": [
        "tensor1 = tf.ones([1,2,3])  # tf.ones() creates a shape [1,2,3] tensor full of ones\n",
        "tensor2 = tf.reshape(tensor1, [2,3,1])  # reshape existing data to shape [2,3,1]\n",
        "tensor3 = tf.reshape(tensor2, [3, -1])  # -1 tells the tensor to calculate the size of the dimension in that place\n",
        "print(tensor1)\n",
        "print(tensor2)\n",
        "print(tensor3)                                    # this will reshape the tensor to [3,3]\n",
        "                                                                             \n",
        "# The numer of elements in the reshaped tensor MUST match the number in the original"
      ],
      "execution_count": 0,
      "outputs": []
    }
  ]
}